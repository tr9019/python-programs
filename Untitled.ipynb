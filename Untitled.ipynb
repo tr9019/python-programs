{
 "cells": [
  {
   "cell_type": "code",
   "execution_count": null,
   "id": "3913c32a",
   "metadata": {},
   "outputs": [],
   "source": [
    "x=int(input(\"Enter value: \"))\n",
    "if(x>0):\n",
    "    print(\"POS\")\n",
    "elif(x==0):\n",
    "    print(\"X is 0\")\n",
    "else:\n",
    "    print(\"Neg\")"
   ]
  },
  {
   "cell_type": "code",
   "execution_count": null,
   "id": "e49ffd1e",
   "metadata": {},
   "outputs": [],
   "source": []
  },
  {
   "cell_type": "code",
   "execution_count": null,
   "id": "ed093791",
   "metadata": {},
   "outputs": [],
   "source": [
    "x=int(input(\"Enter value: \"))\n",
    "if(x>0):\n",
    "    print(\"POS\")\n",
    "elif(x==0):\n",
    "    print(\"X is 0\")\n",
    "else:\n",
    "    print(\"Neg\")\n",
    "    "
   ]
  },
  {
   "cell_type": "code",
   "execution_count": 3,
   "id": "c031f19f",
   "metadata": {},
   "outputs": [
    {
     "name": "stdout",
     "output_type": "stream",
     "text": [
      "h\n"
     ]
    }
   ],
   "source": [
    "print(\"h\")"
   ]
  },
  {
   "cell_type": "code",
   "execution_count": 4,
   "id": "0da1b595",
   "metadata": {},
   "outputs": [
    {
     "ename": "IndentationError",
     "evalue": "expected an indented block (1706292787.py, line 1)",
     "output_type": "error",
     "traceback": [
      "\u001b[1;36m  Input \u001b[1;32mIn [4]\u001b[1;36m\u001b[0m\n\u001b[1;33m    for  i in range(0,10):\u001b[0m\n\u001b[1;37m                          ^\u001b[0m\n\u001b[1;31mIndentationError\u001b[0m\u001b[1;31m:\u001b[0m expected an indented block\n"
     ]
    }
   ],
   "source": [
    "for  i in range(0,10):"
   ]
  },
  {
   "cell_type": "code",
   "execution_count": null,
   "id": "3be8e7c2",
   "metadata": {},
   "outputs": [],
   "source": []
  }
 ],
 "metadata": {
  "kernelspec": {
   "display_name": "Python 3 (ipykernel)",
   "language": "python",
   "name": "python3"
  },
  "language_info": {
   "codemirror_mode": {
    "name": "ipython",
    "version": 3
   },
   "file_extension": ".py",
   "mimetype": "text/x-python",
   "name": "python",
   "nbconvert_exporter": "python",
   "pygments_lexer": "ipython3",
   "version": "3.9.12"
  }
 },
 "nbformat": 4,
 "nbformat_minor": 5
}
