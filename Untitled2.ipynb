{
 "cells": [
  {
   "cell_type": "code",
   "execution_count": null,
   "id": "04d3f8d9",
   "metadata": {},
   "outputs": [],
   "source": [
    "class a;\n",
    "    pass\n",
    "b1=a()\n",
    "b1="
   ]
  }
 ],
 "metadata": {
  "kernelspec": {
   "display_name": "Python 3 (ipykernel)",
   "language": "python",
   "name": "python3"
  },
  "language_info": {
   "codemirror_mode": {
    "name": "ipython",
    "version": 3
   },
   "file_extension": ".py",
   "mimetype": "text/x-python",
   "name": "python",
   "nbconvert_exporter": "python",
   "pygments_lexer": "ipython3",
   "version": "3.9.12"
  }
 },
 "nbformat": 4,
 "nbformat_minor": 5
}
