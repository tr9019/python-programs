{
 "cells": [
  {
   "cell_type": "code",
   "execution_count": 5,
   "id": "8e35f2a2",
   "metadata": {},
   "outputs": [],
   "source": [
    "from tkinter import *\n",
    "root = Tk()\n",
    "Label(root,text=\"Regno\").grid(row=0,column=0)\n",
    "Label(root,text=\"Name:\").grid(row=1,column=0)\n",
    "Entry(root).grid(row=0,column=1)\n",
    "root.mainloop()"
   ]
  },
  {
   "cell_type": "code",
   "execution_count": 3,
   "id": "8a707130",
   "metadata": {},
   "outputs": [
    {
     "name": "stderr",
     "output_type": "stream",
     "text": [
      "Exception in Tkinter callback\n",
      "Traceback (most recent call last):\n",
      "  File \"C:\\Users\\DELL\\anaconda3\\lib\\tkinter\\__init__.py\", line 1892, in __call__\n",
      "    return self.func(*args)\n",
      "  File \"C:\\Users\\DELL\\AppData\\Local\\Temp\\ipykernel_21032\\3785900101.py\", line 3, in add\n",
      "    r=int(e1.get())+int(e2.get())\n",
      "ValueError: invalid literal for int() with base 10: ''\n",
      "Exception in Tkinter callback\n",
      "Traceback (most recent call last):\n",
      "  File \"C:\\Users\\DELL\\anaconda3\\lib\\tkinter\\__init__.py\", line 1892, in __call__\n",
      "    return self.func(*args)\n",
      "  File \"C:\\Users\\DELL\\AppData\\Local\\Temp\\ipykernel_21032\\3785900101.py\", line 7, in sub\n",
      "    a=int(e1.get())-int(e2.get())\n",
      "ValueError: invalid literal for int() with base 10: ''\n"
     ]
    }
   ],
   "source": [
    "from tkinter import *\n",
    "def add():\n",
    "    r=int(e1.get())+int(e2.get())\n",
    "    text.set(r)\n",
    "\n",
    "def sub():\n",
    "    a=int(e1.get())-int(e2.get())\n",
    "    text.set(a)\n",
    "\n",
    "def mul():\n",
    "    b=int(e1.get())*int(e2.get())\n",
    "    text.set(b)\n",
    "root_870 = Tk()\n",
    "root_870.geometry(\"600x180\")\n",
    "root_870.title(\"Calculator\")\n",
    "Label(root_870,text=\"Number1\").grid(row=0,column=0)\n",
    "Label(root_870,text=\"Number2\").grid(row=1,column=0)\n",
    "Label(root_870,text=\"Result\").grid(row=2,column=0)\n",
    "text=StringVar()\n",
    "result=Label(root_870,textvariable=text).grid(row=2,column=1)\n",
    "\n",
    "e1=Entry(root_870)\n",
    "e2=Entry(root_870)\n",
    "e1.grid(row=0,column=1)\n",
    "e2.grid(row=1,column=1)\n",
    "\n",
    "Button(root_870,text=\"Add\",command=add).grid(row=0,column=2)\n",
    "Button(root_870,text=\"Sub\",command=sub).grid(row=1,column=2)\n",
    "Button(root_870,text=\"Mul\",command=mul).grid(row=2,column=2)\n",
    "root_870.mainloop()"
   ]
  },
  {
   "cell_type": "code",
   "execution_count": 7,
   "id": "741eb928",
   "metadata": {},
   "outputs": [
    {
     "name": "stdout",
     "output_type": "stream",
     "text": [
      "x**6 + 6*x**5*y + 15*x**4*y**2 + 20*x**3*y**3 + 15*x**2*y**4 + 6*x*y**5 + y**6\n"
     ]
    }
   ],
   "source": [
    "from   sympy  import  *\n",
    "x=Symbol('x')\n",
    "y=Symbol('y')\n",
    "a=(x+y)**6\n",
    "b=expand(a)\n",
    "print(b)"
   ]
  },
  {
   "cell_type": "code",
   "execution_count": 8,
   "id": "f948d54a",
   "metadata": {},
   "outputs": [
    {
     "name": "stdout",
     "output_type": "stream",
     "text": [
      "5/6\n"
     ]
    }
   ],
   "source": [
    "from sympy import *\n",
    "x=(Rational(1,2)+Rational(1,3))\n",
    "print(Rational(x))"
   ]
  },
  {
   "cell_type": "code",
   "execution_count": 10,
   "id": "a8c3a73c",
   "metadata": {},
   "outputs": [
    {
     "name": "stdout",
     "output_type": "stream",
     "text": [
      "LHS is a**2 - b**2\n",
      "RHS is a**2 - b**2\n"
     ]
    }
   ],
   "source": [
    "from sympy import *\n",
    "a=Symbol('a')\n",
    "b=Symbol(\"b\")\n",
    "LHS=simplify(a**2-a*b+a*b-b**2)\n",
    "RHS=simplify(a**2-b**2)\n",
    "print(\"LHS is\",LHS)\n",
    "print(\"RHS is\",RHS)"
   ]
  },
  {
   "cell_type": "code",
   "execution_count": 14,
   "id": "9b3107bc",
   "metadata": {},
   "outputs": [
    {
     "name": "stdout",
     "output_type": "stream",
     "text": [
      "x**2 + 2*x*y + y**2\n"
     ]
    }
   ],
   "source": [
    "from sympy import *\n",
    "x=Symbol('x')\n",
    "y=Symbol('y')\n",
    "a=(x+y)**2\n",
    "b=expand(a)\n",
    "print(b)"
   ]
  },
  {
   "cell_type": "code",
   "execution_count": 15,
   "id": "6da49891",
   "metadata": {},
   "outputs": [
    {
     "name": "stdout",
     "output_type": "stream",
     "text": [
      "a**2 + 2*a*b + b**2\n",
      "(a + b)**2\n"
     ]
    }
   ],
   "source": [
    "from sympy import *\n",
    "a=Symbol('a')\n",
    "b=Symbol('b')\n",
    "LHS=simplify(a**2+2*a*b+b**2)\n",
    "RHS=simplify((a+b)**2)\n",
    "print(LHS)\n",
    "print(RHS)"
   ]
  },
  {
   "cell_type": "code",
   "execution_count": null,
   "id": "d7aa6a42",
   "metadata": {},
   "outputs": [],
   "source": [
    "from tkinter import *\n",
    "import tkinter as tk\n",
    "root = tk.Tk()\n",
    "root.title(\"Tejas travels\")\n",
    "root.mainloop()"
   ]
  },
  {
   "cell_type": "code",
   "execution_count": null,
   "id": "0aa6e799",
   "metadata": {},
   "outputs": [],
   "source": []
  },
  {
   "cell_type": "code",
   "execution_count": null,
   "id": "c5fab394",
   "metadata": {},
   "outputs": [],
   "source": []
  },
  {
   "cell_type": "code",
   "execution_count": null,
   "id": "deee4b82",
   "metadata": {},
   "outputs": [],
   "source": []
  },
  {
   "cell_type": "code",
   "execution_count": null,
   "id": "b38177ac",
   "metadata": {},
   "outputs": [],
   "source": []
  },
  {
   "cell_type": "code",
   "execution_count": null,
   "id": "8240f90f",
   "metadata": {},
   "outputs": [],
   "source": []
  },
  {
   "cell_type": "code",
   "execution_count": null,
   "id": "0aa28579",
   "metadata": {},
   "outputs": [],
   "source": []
  }
 ],
 "metadata": {
  "kernelspec": {
   "display_name": "Python 3 (ipykernel)",
   "language": "python",
   "name": "python3"
  },
  "language_info": {
   "codemirror_mode": {
    "name": "ipython",
    "version": 3
   },
   "file_extension": ".py",
   "mimetype": "text/x-python",
   "name": "python",
   "nbconvert_exporter": "python",
   "pygments_lexer": "ipython3",
   "version": "3.9.12"
  }
 },
 "nbformat": 4,
 "nbformat_minor": 5
}
