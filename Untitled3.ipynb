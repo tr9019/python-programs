{
 "cells": [
  {
   "cell_type": "code",
   "execution_count": 1,
   "id": "332cf97c",
   "metadata": {},
   "outputs": [
    {
     "name": "stdout",
     "output_type": "stream",
     "text": [
      "rishi\n"
     ]
    }
   ],
   "source": [
    "print(\"rishi\")"
   ]
  },
  {
   "cell_type": "code",
   "execution_count": 2,
   "id": "4e485f6b",
   "metadata": {},
   "outputs": [
    {
     "name": "stdout",
     "output_type": "stream",
     "text": [
      "[0, 1, 1, 2, 3, 5, 8, 13]\n"
     ]
    }
   ],
   "source": [
    "def fibonacci(count):\n",
    "   listA = [0, 1]\n",
    "\n",
    "   any(map(lambda _:listA.append(sum(listA[-2:])),\n",
    "         range(2, count)))\n",
    "\n",
    "   return listA[:count]\n",
    "\n",
    "print(fibonacci(8))\n"
   ]
  },
  {
   "cell_type": "code",
   "execution_count": 3,
   "id": "abaf8b81",
   "metadata": {},
   "outputs": [
    {
     "name": "stdout",
     "output_type": "stream",
     "text": [
      "Original string:  sdf 23 safs8 5 sdfsd8 sdfs 56 21sfs 20 5\n",
      "Numbers in sorted form:\n",
      "20 23 56 "
     ]
    }
   ],
   "source": [
    "str1 = \"sdf 23 safs8 5 sdfsd8 sdfs 56 21sfs 20 5\"\n",
    "print(\"Original string: \",str1)\n",
    "str_num=[i for i in str1.split(' ')]\n",
    "lenght=len(str_num)\n",
    "numbers=sorted([int(x) for x in str_num if x.isdigit()])\n",
    "print('Numbers in sorted form:')\n",
    "for i in ((filter(lambda x:x>lenght,numbers))):\n",
    "    print(i,end=' ')\n"
   ]
  },
  {
   "cell_type": "code",
   "execution_count": 4,
   "id": "49e3143d",
   "metadata": {},
   "outputs": [
    {
     "name": "stdout",
     "output_type": "stream",
     "text": [
      "Original list:\n",
      "['4', '12', '45', '7', '0', '100', '200', '-12', '-500']\n",
      "\n",
      "Sort the said list of strings(numbers) numerically:\n",
      "['-500', '-12', '0', '4', '7', '12', '45', '100', '200']\n"
     ]
    }
   ],
   "source": [
    "def sort_numeric_strings(nums_str):\n",
    "    result = sorted(nums_str, key=lambda el: int(el))\n",
    "    return result\n",
    "nums_str = ['4','12','45','7','0','100','200','-12','-500']\n",
    "print(\"Original list:\")\n",
    "print(nums_str)\n",
    "print(\"\\nSort the said list of strings(numbers) numerically:\")\n",
    "print(sort_numeric_strings(nums_str))\n"
   ]
  },
  {
   "cell_type": "code",
   "execution_count": 5,
   "id": "d989c511",
   "metadata": {},
   "outputs": [
    {
     "name": "stdout",
     "output_type": "stream",
     "text": [
      "Original list:\n",
      "['4', '12', '45', '7', '0', '100', '200', '-12', '-500']\n",
      "\n",
      "Sort the said list of strings(numbers) numerically:\n",
      "['-500', '-12', '0', '4', '7', '12', '45', '100', '200']\n"
     ]
    }
   ],
   "source": [
    "def sort_numeric_strings(nums_str):\n",
    "    result = sorted(nums_str, key=lambda el: int(el))\n",
    "    return result\n",
    "nums_str = ['4','12','45','7','0','100','200','-12','-500']\n",
    "print(\"Original list:\")\n",
    "print(nums_str)\n",
    "print(\"\\nSort the said list of strings(numbers) numerically:\")\n",
    "print(sort_numeric_strings(nums_str))\n"
   ]
  },
  {
   "cell_type": "code",
   "execution_count": 6,
   "id": "081aff56",
   "metadata": {},
   "outputs": [
    {
     "name": "stdout",
     "output_type": "stream",
     "text": [
      "Original Characters:\n",
      " {'U', 'E', 'a', 'o', 'b', 'f', 'i'}\n",
      "\n",
      "After converting above characters in upper and lower cases\n",
      "and eliminating duplicate letters:\n",
      "{('O', 'o'), ('F', 'f'), ('E', 'e'), ('U', 'u'), ('B', 'b'), ('I', 'i'), ('A', 'a')}\n"
     ]
    }
   ],
   "source": [
    "def change_cases(s):\n",
    "  return str(s).upper(), str(s).lower()\n",
    " \n",
    "chrars = {'a', 'b', 'E', 'f', 'a', 'i', 'o', 'U', 'a'}\n",
    "print(\"Original Characters:\\n\",chrars)\n",
    " \n",
    "result = map(change_cases, chrars)\n",
    "print(\"\\nAfter converting above characters in upper and lower cases\\nand eliminating duplicate letters:\")\n",
    "print(set(result))\n"
   ]
  },
  {
   "cell_type": "code",
   "execution_count": 10,
   "id": "156d4671",
   "metadata": {},
   "outputs": [
    {
     "ename": "SyntaxError",
     "evalue": "invalid syntax (3401053427.py, line 6)",
     "output_type": "error",
     "traceback": [
      "\u001b[1;36m  Input \u001b[1;32mIn [10]\u001b[1;36m\u001b[0m\n\u001b[1;33m    list(map(lamda x:x*x,a))\u001b[0m\n\u001b[1;37m                   ^\u001b[0m\n\u001b[1;31mSyntaxError\u001b[0m\u001b[1;31m:\u001b[0m invalid syntax\n"
     ]
    }
   ],
   "source": [
    "a = [1,2,3,4]\n",
    "def square(x):\n",
    "    return x*x\n",
    "map(square,a)\n",
    "list(map(square,a))\n",
    "list(map(lamda x:x*x,a))\n",
    "a\n",
    "b=[1,1,1,1]\n",
    "tuple(map(lambda x,y:x+y,a,b))"
   ]
  },
  {
   "cell_type": "code",
   "execution_count": 11,
   "id": "3ef66a5b",
   "metadata": {},
   "outputs": [
    {
     "name": "stdout",
     "output_type": "stream",
     "text": [
      "origial list of integerd\n",
      "[1, 2, 3, 4, 5, 6, 7, 8, 9, 10]\n",
      "\n",
      " square every NO of the list:\n",
      "[1, 4, 9, 16, 25, 36, 49, 64, 81, 100]\n",
      "\n",
      " c every NO of the list:\n"
     ]
    }
   ],
   "source": [
    "num= [1,2,3,4,5,6,7,8,9,10]\n",
    "print(\"origial list of integerd\")\n",
    "print(num)\n",
    "print(\"\\n square every NO of the list:\")\n",
    "square_num = list(map(lambda x:x ** 2,num))\n",
    "print(square_num)\n",
    "print(\"\\n c every NO of the list:\")\n"
   ]
  },
  {
   "cell_type": "code",
   "execution_count": 27,
   "id": "b7284a3f",
   "metadata": {},
   "outputs": [
    {
     "name": "stdout",
     "output_type": "stream",
     "text": [
      "[0, 1, 1, 2, 3, 5, 8, 13]\n"
     ]
    }
   ],
   "source": [
    "def fibnacci(count):\n",
    "    listA = [0, 1]\n",
    "    \n",
    "    any(map(lambda _:listA.append(sum(listA[-2:])), \n",
    "            range(1,count)))\n",
    "    \n",
    "    return listA[:count]\n",
    "        \n",
    "print(fibnacci(8))"
   ]
  },
  {
   "cell_type": "code",
   "execution_count": 28,
   "id": "e6c6ecda",
   "metadata": {},
   "outputs": [
    {
     "ename": "NameError",
     "evalue": "name 'cube' is not defined",
     "output_type": "error",
     "traceback": [
      "\u001b[1;31m---------------------------------------------------------------------------\u001b[0m",
      "\u001b[1;31mNameError\u001b[0m                                 Traceback (most recent call last)",
      "Input \u001b[1;32mIn [28]\u001b[0m, in \u001b[0;36m<cell line: 5>\u001b[1;34m()\u001b[0m\n\u001b[0;32m      1\u001b[0m lambda_cube \u001b[38;5;241m=\u001b[39m \u001b[38;5;28;01mlambda\u001b[39;00m y: y\u001b[38;5;241m*\u001b[39my\u001b[38;5;241m*\u001b[39my\n\u001b[0;32m      3\u001b[0m \u001b[38;5;66;03m# using the normally\u001b[39;00m\n\u001b[0;32m      4\u001b[0m \u001b[38;5;66;03m# defined function\u001b[39;00m\n\u001b[1;32m----> 5\u001b[0m \u001b[38;5;28mprint\u001b[39m(\u001b[43mcube\u001b[49m(\u001b[38;5;241m5\u001b[39m))\n\u001b[0;32m      7\u001b[0m \u001b[38;5;66;03m# using the lambda function\u001b[39;00m\n\u001b[0;32m      8\u001b[0m \u001b[38;5;28mprint\u001b[39m(lambda_cube(\u001b[38;5;241m5\u001b[39m))\n",
      "\u001b[1;31mNameError\u001b[0m: name 'cube' is not defined"
     ]
    }
   ],
   "source": [
    " lambda_cube = lambda y: y*y*y\n",
    "  \n",
    "# using the normally\n",
    "# defined function\n",
    "print(cube(5))\n",
    "  \n",
    "# using the lambda function\n",
    "print(lambda_cube(5))"
   ]
  },
  {
   "cell_type": "code",
   "execution_count": 30,
   "id": "aed497a6",
   "metadata": {},
   "outputs": [
    {
     "name": "stdout",
     "output_type": "stream",
     "text": [
      "125\n",
      "216\n"
     ]
    }
   ],
   "source": [
    "def cube(y):\n",
    "\treturn y*y*y\n",
    "\n",
    "lambda_cube = lambda y: y*y*y\n",
    "print(cube(5))\n",
    "\n",
    "print(lambda_cube(6))\n"
   ]
  },
  {
   "cell_type": "code",
   "execution_count": 1,
   "id": "668e7983",
   "metadata": {},
   "outputs": [
    {
     "ename": "NameError",
     "evalue": "name 'prinnt' is not defined",
     "output_type": "error",
     "traceback": [
      "\u001b[1;31m---------------------------------------------------------------------------\u001b[0m",
      "\u001b[1;31mNameError\u001b[0m                                 Traceback (most recent call last)",
      "Input \u001b[1;32mIn [1]\u001b[0m, in \u001b[0;36m<cell line: 1>\u001b[1;34m()\u001b[0m\n\u001b[1;32m----> 1\u001b[0m \u001b[43mprinnt\u001b[49m(\u001b[38;5;124m\"\u001b[39m\u001b[38;5;124mHI\u001b[39m\u001b[38;5;124m\"\u001b[39m)\n",
      "\u001b[1;31mNameError\u001b[0m: name 'prinnt' is not defined"
     ]
    }
   ],
   "source": [
    "prinnt(\"HI\")"
   ]
  },
  {
   "cell_type": "code",
   "execution_count": 3,
   "id": "d7555b78",
   "metadata": {},
   "outputs": [
    {
     "name": "stdout",
     "output_type": "stream",
     "text": [
      "hi\n"
     ]
    }
   ],
   "source": [
    "print(\"hi\")"
   ]
  },
  {
   "cell_type": "code",
   "execution_count": 14,
   "id": "6cecb7a4",
   "metadata": {},
   "outputs": [
    {
     "name": "stdout",
     "output_type": "stream",
     "text": [
      "original strint:  sdf 23 safs8 5 sdfsd8 sdfs8  10 56 21sfs 20 5\n",
      "Number in sorted form:\n",
      "20 23 56 "
     ]
    }
   ],
   "source": [
    "str1= \"sdf 23 safs8 5 sdfsd8 sdfs8  10 56 21sfs 20 5\"\n",
    "print(\"original strint: \",str1)\n",
    "str_num=[i for i in str1.split(' ')]\n",
    "length=len(str_num)\n",
    "numbers=sorted([int(x) for x in str_num if x.isdigit()])\n",
    "print('Number in sorted form:')\n",
    "for i in ((filter(lambda x:x>length,numbers))):\n",
    "    print(i,end=\" \")"
   ]
  },
  {
   "cell_type": "code",
   "execution_count": null,
   "id": "3d587cc0",
   "metadata": {},
   "outputs": [],
   "source": [
    "def sort_numermic_strings"
   ]
  }
 ],
 "metadata": {
  "kernelspec": {
   "display_name": "Python 3 (ipykernel)",
   "language": "python",
   "name": "python3"
  },
  "language_info": {
   "codemirror_mode": {
    "name": "ipython",
    "version": 3
   },
   "file_extension": ".py",
   "mimetype": "text/x-python",
   "name": "python",
   "nbconvert_exporter": "python",
   "pygments_lexer": "ipython3",
   "version": "3.9.12"
  }
 },
 "nbformat": 4,
 "nbformat_minor": 5
}
