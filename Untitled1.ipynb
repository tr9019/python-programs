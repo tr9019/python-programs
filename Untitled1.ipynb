{
 "cells": [
  {
   "cell_type": "code",
   "execution_count": 1,
   "id": "5cfaccb7",
   "metadata": {},
   "outputs": [
    {
     "ename": "SyntaxError",
     "evalue": "invalid syntax (3088604527.py, line 2)",
     "output_type": "error",
     "traceback": [
      "\u001b[1;36m  Input \u001b[1;32mIn [1]\u001b[1;36m\u001b[0m\n\u001b[1;33m    root  TK()\u001b[0m\n\u001b[1;37m          ^\u001b[0m\n\u001b[1;31mSyntaxError\u001b[0m\u001b[1;31m:\u001b[0m invalid syntax\n"
     ]
    }
   ],
   "source": [
    "from tkiner import *\n",
    "root  TK()\n",
    "label(room,text=\"Roll No:-\").grid(row=0,column=0)\n"
   ]
  },
  {
   "cell_type": "code",
   "execution_count": 3,
   "id": "7196f72c",
   "metadata": {},
   "outputs": [
    {
     "ename": "SyntaxError",
     "evalue": "invalid syntax (4103662820.py, line 2)",
     "output_type": "error",
     "traceback": [
      "\u001b[1;36m  Input \u001b[1;32mIn [3]\u001b[1;36m\u001b[0m\n\u001b[1;33m    root  TK()\u001b[0m\n\u001b[1;37m          ^\u001b[0m\n\u001b[1;31mSyntaxError\u001b[0m\u001b[1;31m:\u001b[0m invalid syntax\n"
     ]
    }
   ],
   "source": [
    "from tkiner import *\n",
    "root  TK()\n",
    "label(room,text=\"Roll No:-\").grid(row=0,column=0)\n",
    "label(room,text=\"Name\").grid(row=1,column=0)\n",
    "\n"
   ]
  },
  {
   "cell_type": "code",
   "execution_count": null,
   "id": "edff966a",
   "metadata": {},
   "outputs": [],
   "source": [
    "from tkinter import *\n",
    "root = Tk()\n",
    "Label(root,text='Regno').grid(row=0,column=0)\n",
    "Label(root,text=\"Name: \").grid(row=1,column=0)\n",
    "Label(root,text=\"Dept :\").grid(row=2,column=0)\n",
    "Label(root,text=\"Gender:\").grid(row=3,column=0)\n",
    "Label(root,text=\"Age\").grid(row=4,column=0)\n",
    "\n",
    "root.mainloop()\n"
   ]
  },
  {
   "cell_type": "code",
   "execution_count": null,
   "id": "8dff4a71",
   "metadata": {},
   "outputs": [],
   "source": [
    "from tkinter import *\n",
    "root = Tk()\n",
    "Label(root,text='Regno').grid(row=0,column=0)\n",
    "Label(root,text=\"Name: \").grid(row=1,column=0)\n",
    "Label(root,text=\"Dept :\").grid(row=2,column=0)\n",
    "Label(root,text=\"Gender:\").grid(row=3,column=0)\n",
    "Label(root,text=\"Age\").grid(row=4,column=0)\n",
    "\n",
    "root.mainloop()\n"
   ]
  },
  {
   "cell_type": "code",
   "execution_count": null,
   "id": "9a4aa919",
   "metadata": {},
   "outputs": [],
   "source": []
  }
 ],
 "metadata": {
  "kernelspec": {
   "display_name": "Python 3 (ipykernel)",
   "language": "python",
   "name": "python3"
  },
  "language_info": {
   "codemirror_mode": {
    "name": "ipython",
    "version": 3
   },
   "file_extension": ".py",
   "mimetype": "text/x-python",
   "name": "python",
   "nbconvert_exporter": "python",
   "pygments_lexer": "ipython3",
   "version": "3.9.12"
  }
 },
 "nbformat": 4,
 "nbformat_minor": 5
}
